{
 "cells": [
  {
   "cell_type": "markdown",
   "id": "24cc68b7-ad75-4566-833c-fa6332c60abf",
   "metadata": {},
   "source": [
    "# ヒューマノイドロボット入門Part1\n",
    "## ロボットのデータ構造とプログラミング\n",
    "### データ構造\n",
    "ヒューマノイドロボットは数多くのリンクが関節でつながった構造をもつ機械であるから、その解析の第一歩はロボットを関節とリンクごとに分割することにある。\n",
    "リンク間の接続関係は**ツリー構造**で表現できる。\n",
    "あるいはボディを始祖とする家系図にたとえ、ボディから遠ざかる方向にその子孫が連なっていると考えてよい。2つの枝があり、左下の枝に「子」を、右下の枝に「妹」を記す。ただし、子や妹が存在しない場合には0と表記する。\n",
    "\n",
    "            BODY\n",
    "             |\n",
    "        ------------\n",
    "        |          |\n",
    "      RARM         0\n",
    "        |\n",
    "    ---------\n",
    "    |       |\n",
    "    RHAND    LARM\n",
    "\n",
    "### 再帰呼び出しによるプログラミング\n",
    "次にこのような情報を実際のプログラムで扱う方法を考える。その準備としてあるロボットの構造を以下の表のように考え、リンクを一意に指定するために根元にあたるBODYのIDを1として、あとは適当な順で番号を付ける。nameのRARMなどは、左右(L or R)+パーツ名(ARM or HAND or...)を表す。\n",
    "|ID|name|sister|child|\n",
    "|-|-|-|-|\n",
    "|1|BODY|0|2|\n",
    "|2|RARM|4|3|\n",
    "|3|RHAND|0|0|\n",
    "|4|LARM|6|5|\n",
    "|5|LHAND|0|0|\n",
    "|6|RLEG|8|7|\n",
    "|7|RFOOT|0|0|\n",
    "|8|LLEG|0|9|\n",
    "|9|LFOOT|0|0|\n",
    "\n",
    "これをPythonコードで書くと以下のようになる。"
   ]
  },
  {
   "cell_type": "code",
   "execution_count": 2,
   "id": "218ea5fe-9d0c-4934-a61e-c58ec079fcfe",
   "metadata": {},
   "outputs": [
    {
     "name": "stdout",
     "output_type": "stream",
     "text": [
      "[[[[[ uLINK struct was set as following ]]]]]\n",
      "-------------------------------------\n",
      "ID     name    sister child   mass\n",
      "-------------------------------------\n",
      "1  BODY          0     2      10.00\n",
      "2  RARM          4     3       5.00\n",
      "3  RHAND         0     0       1.00\n",
      "4  LARM          6     5       5.00\n",
      "5  LHAND         0     0       1.00\n",
      "6  RLEG          8     7       6.00\n",
      "7  RFOOT         0     0       2.00\n",
      "8  LLEG          0     9       6.00\n",
      "9  LFOOT         0     0       2.00\n",
      "\n",
      "show the name of all links\n",
      "BODY\n",
      "RARM\n",
      "RHAND\n",
      "LARM\n",
      "LHAND\n",
      "RLEG\n",
      "RFOOT\n",
      "LLEG\n",
      "LFOOT\n"
     ]
    },
    {
     "name": "stdin",
     "output_type": "stream",
     "text": [
      "Press Enter to continue... \n"
     ]
    },
    {
     "name": "stdout",
     "output_type": "stream",
     "text": [
      "sum of the mass of all links\n"
     ]
    },
    {
     "name": "stdin",
     "output_type": "stream",
     "text": [
      "Press Enter to continue... \n"
     ]
    }
   ],
   "source": [
    "# ulink_example.py\n",
    "# 2.4.2 Programming with Recursions\n",
    "\n",
    "class Link:\n",
    "    def __init__(self, name, sister, child, m):\n",
    "        self.name = name\n",
    "        self.sister = sister\n",
    "        self.child = child\n",
    "        self.m = m\n",
    "\n",
    "def print_links_info(links):\n",
    "    print(\"[[[[[ uLINK struct was set as following ]]]]]\")\n",
    "    print(\"-------------------------------------\")\n",
    "    print(\"ID     name    sister child   mass\")\n",
    "    print(\"-------------------------------------\")\n",
    "    for n, link in enumerate(links):\n",
    "        print(f\"{n+1}  {link.name:8s}     {link.sister:2d}    {link.child:2d}    {link.m:7.2f}\")\n",
    "    print()\n",
    "\n",
    "def pause_and_execute(command, description):\n",
    "    print(description)\n",
    "    exec(command)\n",
    "    input(\"Press Enter to continue...\")\n",
    "\n",
    "def print_link_name(link_id):\n",
    "    if link_id == 0:\n",
    "        return\n",
    "    print(uLINK[link_id - 1].name)\n",
    "    print_link_name(uLINK[link_id - 1].child)\n",
    "    print_link_name(uLINK[link_id - 1].sister)\n",
    "\n",
    "def total_mass(link_id):\n",
    "    if link_id == 0:\n",
    "        return 0\n",
    "    return uLINK[link_id - 1].m + total_mass(uLINK[link_id - 1].child) + total_mass(uLINK[link_id - 1].sister)\n",
    "\n",
    "# Create link instances\n",
    "uLINK = [\n",
    "    Link('BODY', 0, 2, 10),\n",
    "    Link('RARM', 4, 3, 5),\n",
    "    Link('RHAND', 0, 0, 1),\n",
    "    Link('LARM', 6, 5, 5),\n",
    "    Link('LHAND', 0, 0, 1),\n",
    "    Link('RLEG', 8, 7, 6),\n",
    "    Link('RFOOT', 0, 0, 2),\n",
    "    Link('LLEG', 0, 9, 6),\n",
    "    Link('LFOOT', 0, 0, 2)\n",
    "]\n",
    "\n",
    "# Print link information\n",
    "print_links_info(uLINK)\n",
    "\n",
    "# Execute commands with pauses\n",
    "pause_and_execute(\"print_link_name(1)\", \"show the name of all links\")\n",
    "pause_and_execute(\"total_mass(1)\", \"sum of the mass of all links\")\n"
   ]
  },
  {
   "cell_type": "code",
   "execution_count": null,
   "id": "0b986b0b-bbf3-431e-8e0c-19c610d3c321",
   "metadata": {},
   "outputs": [],
   "source": []
  }
 ],
 "metadata": {
  "kernelspec": {
   "display_name": "Python 3 (ipykernel)",
   "language": "python",
   "name": "python3"
  },
  "language_info": {
   "codemirror_mode": {
    "name": "ipython",
    "version": 3
   },
   "file_extension": ".py",
   "mimetype": "text/x-python",
   "name": "python",
   "nbconvert_exporter": "python",
   "pygments_lexer": "ipython3",
   "version": "3.10.10"
  }
 },
 "nbformat": 4,
 "nbformat_minor": 5
}
